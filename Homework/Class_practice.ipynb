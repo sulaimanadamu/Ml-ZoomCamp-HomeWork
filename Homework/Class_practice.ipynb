{
 "cells": [
  {
   "cell_type": "code",
   "execution_count": 16,
   "id": "fce354ba-7607-4e29-825d-0c7e5f4153d3",
   "metadata": {},
   "outputs": [],
   "source": [
    "import numpy as np\n",
    "import pandas as pd"
   ]
  },
  {
   "cell_type": "code",
   "execution_count": 2,
   "id": "e39145c7-966f-4568-9913-c1dfaa832257",
   "metadata": {},
   "outputs": [
    {
     "data": {
      "text/plain": [
       "array([0., 0., 0., 0., 0., 0., 0., 0., 0., 0.])"
      ]
     },
     "execution_count": 2,
     "metadata": {},
     "output_type": "execute_result"
    }
   ],
   "source": [
    "# create an array of zeros and length 10 with np.zeros(size)\n",
    "np.zeros(10)"
   ]
  },
  {
   "cell_type": "code",
   "execution_count": 3,
   "id": "7610284d-b85a-4f10-ad5f-b5e1ec863bf2",
   "metadata": {},
   "outputs": [
    {
     "data": {
      "text/plain": [
       "array([1., 1., 1., 1., 1., 1., 1., 1., 1., 1.])"
      ]
     },
     "execution_count": 3,
     "metadata": {},
     "output_type": "execute_result"
    }
   ],
   "source": [
    "# create an array of ones and length 10 with np.ones(size)\n",
    "np.ones(10)"
   ]
  },
  {
   "cell_type": "code",
   "execution_count": 4,
   "id": "cbd23eb0-8037-47c0-bcf4-e35af6618561",
   "metadata": {},
   "outputs": [
    {
     "data": {
      "text/plain": [
       "array([2.5, 2.5, 2.5, 2.5, 2.5, 2.5, 2.5, 2.5, 2.5, 2.5])"
      ]
     },
     "execution_count": 4,
     "metadata": {},
     "output_type": "execute_result"
    }
   ],
   "source": [
    "# create an array of length 10 filled with 2.5 np.full(length, value)\n",
    "np.full(10, 2.5)"
   ]
  },
  {
   "cell_type": "code",
   "execution_count": 5,
   "id": "64943355-bb7d-4e10-a767-b542f10af36a",
   "metadata": {},
   "outputs": [
    {
     "data": {
      "text/plain": [
       "array([1, 2, 3, 4, 5])"
      ]
     },
     "execution_count": 5,
     "metadata": {},
     "output_type": "execute_result"
    }
   ],
   "source": [
    "# convert a python list to an array with\n",
    "l = [1,2,3,4,5]\n",
    "arr = np.array(l)\n",
    "arr"
   ]
  },
  {
   "cell_type": "code",
   "execution_count": 6,
   "id": "84cc3876-3ea4-49fe-9178-6e6a7887d0ed",
   "metadata": {},
   "outputs": [
    {
     "data": {
      "text/plain": [
       "array([ 1,  2,  3, 22,  5])"
      ]
     },
     "execution_count": 6,
     "metadata": {},
     "output_type": "execute_result"
    }
   ],
   "source": [
    "# arrays can be substituted with basically they are mutable e.g\n",
    "arr[3] = 22\n",
    "arr"
   ]
  },
  {
   "cell_type": "code",
   "execution_count": 7,
   "id": "a2569068-276f-47d6-b51b-dda059f034bd",
   "metadata": {},
   "outputs": [
    {
     "name": "stdout",
     "output_type": "stream",
     "text": [
      "[0 1 2 3 4 5 6 7 8 9]\n",
      "[3 4 5 6 7 8 9]\n"
     ]
    }
   ],
   "source": [
    "# create a range of numbers\n",
    "# np.arange(initial, last_number - 1) \n",
    "# so range of 10 is 0 to 10-1 = 9\n",
    "print(np.arange(10))\n",
    "print(np.arange(3, 10))\n",
    "# it doest return the last number defined.\n"
   ]
  },
  {
   "cell_type": "code",
   "execution_count": 8,
   "id": "3a8fb21b-02e6-431f-8b2b-806bea11a994",
   "metadata": {},
   "outputs": [
    {
     "name": "stdout",
     "output_type": "stream",
     "text": [
      "[0.         0.04166667 0.08333333 0.125      0.16666667 0.20833333\n",
      " 0.25       0.29166667 0.33333333 0.375      0.41666667 0.45833333\n",
      " 0.5        0.54166667 0.58333333 0.625      0.66666667 0.70833333\n",
      " 0.75       0.79166667 0.83333333 0.875      0.91666667 0.95833333\n",
      " 1.        ]\n",
      " -------------------------  \n",
      "[  0.  10.  20.  30.  40.  50.  60.  70.  80.  90. 100.]\n"
     ]
    }
   ],
   "source": [
    "# takes a number takes the first two arguments as range value,\n",
    "# the last argument as the length. numpy will split up the range in \n",
    "# such a way that the length of array returned is equal to the final argument\n",
    "# and the values will be between the range(first two argument including the two args.)\n",
    "print(np.linspace(0,1,25))\n",
    "print(\" -------------------------  \")\n",
    "print(np.linspace(0, 100, 11))"
   ]
  },
  {
   "cell_type": "code",
   "execution_count": 9,
   "id": "949e4049-04cd-4d13-9dab-12502212184d",
   "metadata": {},
   "outputs": [
    {
     "data": {
      "text/plain": [
       "array([[0., 0.],\n",
       "       [0., 0.],\n",
       "       [0., 0.],\n",
       "       [0., 0.],\n",
       "       [0., 0.]])"
      ]
     },
     "execution_count": 9,
     "metadata": {},
     "output_type": "execute_result"
    }
   ],
   "source": [
    "# create nested arrays with\n",
    "#       rows, columns\n",
    "np.zeros((5, 2))"
   ]
  },
  {
   "cell_type": "code",
   "execution_count": 10,
   "id": "ca0785c7-9b64-404c-a8cb-c35a2d216c62",
   "metadata": {},
   "outputs": [],
   "source": [
    "# create an array from a python nested list\n",
    "py_list = [\n",
    "    [1,2,3],\n",
    "    [4,5,6],\n",
    "    [7,8,9]\n",
    "]\n",
    "\n",
    "n = np.array(py_list)"
   ]
  },
  {
   "cell_type": "code",
   "execution_count": 11,
   "id": "60da1793-721d-4378-8eea-a70901b4ec7c",
   "metadata": {},
   "outputs": [
    {
     "name": "stdout",
     "output_type": "stream",
     "text": [
      "[1 2 3]\n",
      "[2 5 8]\n",
      " ================ \n",
      "[[ 1 40  3]\n",
      " [ 4 50  6]\n",
      " [ 7 70  9]]\n"
     ]
    }
   ],
   "source": [
    "# select rows\n",
    "print(n[0])\n",
    "# select on the second columns\n",
    "print(n[:,1])\n",
    "# change an element of an array\n",
    "n[0, 1] = 50\n",
    "# change a column of an array\n",
    "n[:, 1] = [40, 50, 70]\n",
    "print(\" ================ \")\n",
    "print(n)"
   ]
  },
  {
   "cell_type": "code",
   "execution_count": 12,
   "id": "9ca836e1-7724-4835-9d43-4f32f169b65c",
   "metadata": {},
   "outputs": [
    {
     "data": {
      "text/plain": [
       "array([[0.09495089, 0.98656208],\n",
       "       [0.77959067, 0.70529513],\n",
       "       [0.01816572, 0.51710838],\n",
       "       [0.62815897, 0.9860926 ],\n",
       "       [0.66749638, 0.40071334]])"
      ]
     },
     "execution_count": 12,
     "metadata": {},
     "output_type": "execute_result"
    }
   ],
   "source": [
    "# generate a random array.\n",
    "# ............(row, column)\n",
    "np.random.rand(5, 2)"
   ]
  },
  {
   "cell_type": "code",
   "execution_count": 14,
   "id": "1e299a80-8fb6-4779-966d-7a2f05597ca8",
   "metadata": {},
   "outputs": [
    {
     "data": {
      "text/plain": [
       "array([[-0.41675785, -0.05626683],\n",
       "       [-2.1361961 ,  1.64027081],\n",
       "       [-1.79343559, -0.84174737],\n",
       "       [ 0.50288142, -1.24528809],\n",
       "       [-1.05795222, -0.90900761]])"
      ]
     },
     "execution_count": 14,
     "metadata": {},
     "output_type": "execute_result"
    }
   ],
   "source": [
    "# generate a random array of a normal distribution\n",
    "# ............(row, column)\n",
    "randn = np.random.randn(5, 2)"
   ]
  },
  {
   "cell_type": "code",
   "execution_count": 17,
   "id": "a2c17675-4dab-4320-9b26-eb3dfb43dee7",
   "metadata": {},
   "outputs": [],
   "source": [
    "# To get same number random state we have to set random state to a number.\n",
    "np.random.seed(2)\n"
   ]
  },
  {
   "cell_type": "code",
   "execution_count": null,
   "id": "8cf10a90-f2a9-43c3-9e25-0fc387d9d0aa",
   "metadata": {},
   "outputs": [],
   "source": []
  }
 ],
 "metadata": {
  "kernelspec": {
   "display_name": "Python 3 (ipykernel)",
   "language": "python",
   "name": "python3"
  },
  "language_info": {
   "codemirror_mode": {
    "name": "ipython",
    "version": 3
   },
   "file_extension": ".py",
   "mimetype": "text/x-python",
   "name": "python",
   "nbconvert_exporter": "python",
   "pygments_lexer": "ipython3",
   "version": "3.12.1"
  }
 },
 "nbformat": 4,
 "nbformat_minor": 5
}
